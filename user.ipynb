{
  "nbformat": 4,
  "nbformat_minor": 0,
  "metadata": {
    "colab": {
      "provenance": [],
      "authorship_tag": "ABX9TyOIN/WHadg+o+Bg6nhdGKyV",
      "include_colab_link": true
    },
    "kernelspec": {
      "name": "python3",
      "display_name": "Python 3"
    },
    "language_info": {
      "name": "python"
    }
  },
  "cells": [
    {
      "cell_type": "markdown",
      "metadata": {
        "id": "view-in-github",
        "colab_type": "text"
      },
      "source": [
        "<a href=\"https://colab.research.google.com/github/anashamad9/ExtractingAndVisualizingStockData/blob/main/user.ipynb\" target=\"_parent\"><img src=\"https://colab.research.google.com/assets/colab-badge.svg\" alt=\"Open In Colab\"/></a>"
      ]
    },
    {
      "cell_type": "code",
      "execution_count": 1,
      "metadata": {
        "id": "iWPF63pF2HT_"
      },
      "outputs": [],
      "source": [
        "class User:\n",
        "    def __init__(self, user_id, name, role):\n",
        "        self.user_id = user_id\n",
        "        self.name = name\n",
        "        self.role = role\n",
        "        self.borrowed_books = []\n",
        "        self.fines = 0\n",
        "\n",
        "    def display_details(self):\n",
        "        print(f\"User ID: {self.user_id}, Name: {self.name}, Role: {self.role}, Borrowed Books: {self.borrowed_books}, Fines: {self.fines}\")\n",
        "\n",
        "    def borrow_book(self, book):\n",
        "        if book.is_available():\n",
        "            self.borrowed_books.append(book)\n",
        "            book.copies -= 1\n",
        "        else:\n",
        "            print(\"Book not available for borrowing.\")\n",
        "\n",
        "    def return_book(self, book, days_overdue):\n",
        "        if book in self.borrowed_books:\n",
        "            self.borrowed_books.remove(book)\n",
        "            book.copies += 1\n",
        "            if days_overdue > 0:\n",
        "                self.fines += days_overdue\n",
        "        else:\n",
        "            print(\"This book was not borrowed by the user.\")\n"
      ]
    }
  ]
}